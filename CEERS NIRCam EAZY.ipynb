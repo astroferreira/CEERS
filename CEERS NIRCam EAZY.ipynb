{
 "cells": [
  {
   "cell_type": "markdown",
   "id": "4f15a343",
   "metadata": {},
   "source": [
    "https://github.com/gbrammer/eazy-py/blob/master/docs/examples/HDFN-demo.ipynb  \n",
    "https://github.com/gbrammer/eazy-py"
   ]
  },
  {
   "cell_type": "code",
   "execution_count": 1,
   "id": "ef383a54",
   "metadata": {},
   "outputs": [
    {
     "name": "stdout",
     "output_type": "stream",
     "text": [
      "EAZYCODE = usr/local/share/python/eazy-py/eazy-photoz\n",
      "Tue Jun 21 22:58:43 2022\n",
      "\n",
      "3.10.4 | packaged by conda-forge | (main, Mar 24 2022, 17:43:32) [Clang 12.0.1 ]\n",
      "\n",
      "               numpy : 1.22.4\n",
      "               scipy : 1.8.1\n",
      "          matplotlib : 3.5.2\n",
      "             astropy : 5.1\n",
      "                eazy : 0.5.2.dev50\n",
      "            prospect : 1.1.0\n"
     ]
    }
   ],
   "source": [
    "%matplotlib inline\n",
    "import os\n",
    "os.environ['EAZYCODE'] = 'usr/local/share/python/eazy-py/eazy-photoz'\n",
    "\n",
    "import os\n",
    "import numpy as np\n",
    "import matplotlib.pyplot as plt\n",
    "\n",
    "import eazy\n",
    "\n",
    "# Symlink templates & filters from the eazy-code repository\n",
    "try:\n",
    "    print('EAZYCODE = '+os.getenv('EAZYCODE'))\n",
    "except:\n",
    "    pass\n",
    "\n",
    "if not os.path.exists('templates'):\n",
    "    eazy.symlink_eazy_inputs() \n",
    "    \n",
    "\n",
    "# Module versions\n",
    "import importlib\n",
    "import sys\n",
    "import time\n",
    "print(time.ctime() + '\\n')\n",
    "\n",
    "print(sys.version + '\\n')\n",
    "\n",
    "for module in ['numpy', 'scipy', 'matplotlib','astropy','eazy', 'prospect']:\n",
    "    #print(module)\n",
    "    mod = importlib.import_module(module)\n",
    "    print('{0:>20} : {1}'.format(module, mod.__version__))"
   ]
  },
  {
   "cell_type": "code",
   "execution_count": 2,
   "id": "2908f950",
   "metadata": {},
   "outputs": [],
   "source": [
    "# quiet numpy/astropy warnings\n",
    "import warnings\n",
    "from astropy.utils.exceptions import AstropyWarning\n",
    "\n",
    "np.seterr(all='ignore')\n",
    "warnings.simplefilter('ignore', category=AstropyWarning)"
   ]
  },
  {
   "cell_type": "raw",
   "id": "30ab0ba2",
   "metadata": {},
   "source": [
    "Input file eazy.translate.txt:\n",
    "\n",
    "Seq  id\n",
    "zspec z_spec\n",
    "f090w_flux     F363\n",
    "f090w_fluxerr  E363\n",
    "f115w_flux     F364\n",
    "f115w_fluxerr  E364\n",
    "f150w_flux     F365\n",
    "f150w_fluxerr  E365\n",
    "f200w_flux     F366\n",
    "f200w_fluxerr  E366\n",
    "f277w_flux     F375\n",
    "f277w_fluxerr  E375\n",
    "f356w_flux     F376\n",
    "f356w_fluxerr  E376\n",
    "f410m_flux     F383\n",
    "f410m_fluxerr  E383\n",
    "f444w_flux     F377\n",
    "f444w_fluxerr  E377\n",
    "f480m_flux     F386\n",
    "f480m_fluxerr  E386"
   ]
  },
  {
   "cell_type": "markdown",
   "id": "30267e71",
   "metadata": {},
   "source": [
    "EAZY translate file has 2 columns:\n",
    "1) column label in your catalog  \n",
    "2) filter line number in EAZY filter list prepended with:  \n",
    "   \"F\"  for flux in uJy   \n",
    "   \"EF\" for flux uncertainty in uJy\n",
    "   \n",
    "or \"id\" for id number; \"z_spec\" for spectroscopic redshift\n",
    "\n",
    "NIRCam filters start on line 362:  \n",
    "https://github.com/gbrammer/eazy-photoz/blob/cdd4510dbc32d828334f8d0b2e88652894a54653/filters/FILTER.RES.latest.info#L362\n",
    "\n",
    "You might only have to set this up once."
   ]
  },
  {
   "cell_type": "code",
   "execution_count": 3,
   "id": "68a16b8b",
   "metadata": {},
   "outputs": [],
   "source": [
    "# Input catalog csv with flux in uJy\n",
    "field = 'ceers5'\n",
    "inroot = field + '_photometry'\n",
    "catalog_file = os.path.join('../phot3', inroot+'.csv')\n",
    "translate_file = 'eazypy.translate.txt'\n",
    "#translate_file = 'https://www.stsci.edu/~dcoe/eazypy.translate.txt'  # this doesn't work\n",
    "output_file = field + '.eazypy'"
   ]
  },
  {
   "cell_type": "code",
   "execution_count": 4,
   "id": "918d5717",
   "metadata": {},
   "outputs": [],
   "source": [
    "# EAZY input parameters\n",
    "# https://eazy-py.readthedocs.io/en/latest/_modules/eazy/photoz.html\n",
    "\n",
    "params = {}\n",
    "params['CATALOG_FILE'] = catalog_file\n",
    "params['CATALOG_FORMAT'] = 'csv'\n",
    "\n",
    "params['MAIN_OUTPUT_FILE'] = output_file\n",
    "\n",
    "# Galactic extinction\n",
    "params['MW_EBV'] = 0.0103\n",
    "#params['MW_EBV'] = eazy.utils.get_irsa_dust(np.nanmedian(zf['ra']), np.nanmedian(zf['dec']))\n",
    "\n",
    "params['CAT_HAS_EXTCORR'] = True\n",
    "\n",
    "params['Z_STEP'] = 0.01\n",
    "params['Z_MIN'] = 0.01\n",
    "params['Z_MAX'] = 16.\n",
    "\n",
    "params['PRIOR_ABZP'] = 25 \n",
    "params['PRIOR_FILTER'] = 'f200w_flux' # K-band ~ F200W  # previously set to 28 255\n",
    "params['PRIOR_FILE'] = 'templates/prior_K_TAO.dat'\n",
    "\n",
    "params['TEMPLATES_FILE'] = 'templates/fsps_full/tweak_fsps_QSF_12_v3.param'\n",
    "#params['TEMPLATES_FILE'] = 'templates/spline_templates_v2/tweak_spline.param'\n",
    "\n",
    "# FSPS + bluer templates added by Rebecca Larson 2022:\n",
    "#params['TEMPLATES_FILE'] = 'templates/Larson22/tweak_fsps_QSF_12_v3_newtemplates_Lya_Reduced.param'  # general purpose\n",
    "#params['TEMPLATES_FILE'] = 'templates/Larson22/tweak_fsps_QSF_12_v3_newtemplates.param'  # z > 8\n",
    "\n",
    "params['FIX_ZSPEC'] = False\n",
    "\n",
    "params['IGM_SCALE_TAU'] = 1.0\n",
    "\n",
    "params['SYS_ERR'] = 0.03"
   ]
  },
  {
   "cell_type": "code",
   "execution_count": 5,
   "id": "4a44f77a",
   "metadata": {},
   "outputs": [
    {
     "name": "stdout",
     "output_type": "stream",
     "text": [
      "Read default param file: /Users/dcoe/miniconda3/envs/erophot/lib/python3.10/site-packages/eazy/data/zphot.param.default\n",
      "Read CATALOG_FILE: ../phot3/ceers5_photometry.csv\n",
      "   >>> NOBJ = 9755\n",
      "f115w_flux f115w_fluxerr (364): jwst_nircam_f115w\n",
      "f150w_flux f150w_fluxerr (365): jwst_nircam_f150w\n",
      "f200w_flux f200w_fluxerr (366): jwst_nircam_f200w\n",
      "f277w_flux f277w_fluxerr (375): jwst_nircam_f277w\n",
      "f356w_flux f356w_fluxerr (376): jwst_nircam_f356w\n",
      "f444w_flux f444w_fluxerr (377): jwst_nircam_f444w\n",
      "Set sys_err = 0.03 (positive=True)\n",
      "Read PRIOR_FILE:  templates/prior_K_TAO.dat\n",
      "Template grid: templates/fsps_full/tweak_fsps_QSF_12_v3.param (this may take some time)\n"
     ]
    },
    {
     "name": "stderr",
     "output_type": "stream",
     "text": [
      "100%|███████████████████████████████████████████| 12/12 [00:07<00:00,  1.63it/s]\n"
     ]
    },
    {
     "name": "stdout",
     "output_type": "stream",
     "text": [
      "Template   0: tweak_fsps_QSF_12_v3_001.dat (NZ=1).\n",
      "Template   1: tweak_fsps_QSF_12_v3_002.dat (NZ=1).\n",
      "Template   2: tweak_fsps_QSF_12_v3_003.dat (NZ=1).\n",
      "Template   3: tweak_fsps_QSF_12_v3_004.dat (NZ=1).\n",
      "Template   4: tweak_fsps_QSF_12_v3_005.dat (NZ=1).\n",
      "Template   5: tweak_fsps_QSF_12_v3_006.dat (NZ=1).\n",
      "Template   6: tweak_fsps_QSF_12_v3_007.dat (NZ=1).\n",
      "Template   7: tweak_fsps_QSF_12_v3_008.dat (NZ=1).\n",
      "Template   8: tweak_fsps_QSF_12_v3_009.dat (NZ=1).\n",
      "Template   9: tweak_fsps_QSF_12_v3_010.dat (NZ=1).\n",
      "Template  10: tweak_fsps_QSF_12_v3_011.dat (NZ=1).\n",
      "Template  11: tweak_fsps_QSF_12_v3_012.dat (NZ=1).\n",
      "Process templates: 8.112 s\n"
     ]
    },
    {
     "name": "stderr",
     "output_type": "stream",
     "text": [
      "283it [00:00, 1024.98it/s]\n"
     ]
    }
   ],
   "source": [
    "# Initialize EAZY object\n",
    "eazy_run = eazy.photoz.PhotoZ(param_file=None, translate_file=translate_file, zeropoint_file=None,\n",
    "                              params=params, load_prior=True, load_products=False)"
   ]
  },
  {
   "cell_type": "code",
   "execution_count": 6,
   "id": "ab0636a7",
   "metadata": {},
   "outputs": [
    {
     "name": "stderr",
     "output_type": "stream",
     "text": [
      "100%|█████████████████████████████████████████| 283/283 [02:18<00:00,  2.04it/s]\n"
     ]
    },
    {
     "name": "stdout",
     "output_type": "stream",
     "text": [
      "Compute best fits\n",
      "fit_best: 2.5 s (n_proc=1,  NOBJ=9369)\n",
      "Fit 141.7 s (n_proc=8, NOBJ=9755)\n"
     ]
    }
   ],
   "source": [
    "# Run EAZY SED fitting (takes a minute or two for thousands of objects)\n",
    "eazy_run.fit_catalog(eazy_run.idx, n_proc=8)"
   ]
  },
  {
   "cell_type": "code",
   "execution_count": 7,
   "id": "1d55a08e",
   "metadata": {},
   "outputs": [
    {
     "name": "stdout",
     "output_type": "stream",
     "text": [
      "Get best fit coeffs & best redshifts\n",
      "fit_best: 11.9 s (n_proc=1,  NOBJ=9466)\n",
      "Get parameters (UBVJ=[153, 154, 155, 161], simple=False)\n"
     ]
    },
    {
     "name": "stderr",
     "output_type": "stream",
     "text": [
      "100%|███████████████████████████████████████| 9466/9466 [01:41<00:00, 92.85it/s]\n"
     ]
    }
   ],
   "source": [
    "# Derived parameters (z params, RF colors, masses, SFR, etc.)\n",
    "# (takes another minute or two for thousands of objects)\n",
    "warnings.simplefilter('ignore', category=RuntimeWarning)\n",
    "zout, hdu = eazy_run.standard_output(simple=False, \n",
    "                                 rf_pad_width=0.5, rf_max_err=2, \n",
    "                                 prior=True, beta_prior=True, \n",
    "                                 absmag_filters=[], \n",
    "                                 extra_rf_filters=[])\n",
    "\n",
    "# 'zout' also saved to [MAIN_OUTPUT_FILE].zout.fits"
   ]
  },
  {
   "cell_type": "code",
   "execution_count": 17,
   "id": "350e422e",
   "metadata": {},
   "outputs": [
    {
     "data": {
      "text/plain": [
       "<TableColumns names=('id','ra','dec','nusefilt','z_ml','z_ml_chi2','z_ml_risk','lc_min','lc_max','z_phot','z_phot_chi2','z_phot_risk','z_min_risk','min_risk','z_raw_chi2','raw_chi2','z025','z160','z500','z840','z975','restU','restU_err','restB','restB_err','restV','restV_err','restJ','restJ_err','dL','Lv','mass','sfr','LIR','energy_abs','Av','lw_age_V','MLv','Lv_p','mass_p','LIR_p','sfr_p','Av_p','ssfr_p')>"
      ]
     },
     "execution_count": 17,
     "metadata": {},
     "output_type": "execute_result"
    }
   ],
   "source": [
    "# https://eazy-py.readthedocs.io/en/latest/eazy/zout_columns.html\n",
    "\n",
    "# The risk R(zphot) can be roughly interpreted as the probability of the inferred redshift zphot being an outlier\n",
    "# Tanaka et al. 2018: https://academic.oup.com/pasj/article/70/SP1/S9/4494086\n",
    "\n",
    "zout.columns"
   ]
  },
  {
   "cell_type": "code",
   "execution_count": null,
   "id": "082a6c0c",
   "metadata": {},
   "outputs": [],
   "source": [
    "# Saves a massive ~500MB file with everything\n",
    "# (I'd rather rerun EAZY than save such a large file)\n",
    "if 0:\n",
    "    try:\n",
    "        import h5py\n",
    "    except:\n",
    "        ! pip install h5py\n",
    "\n",
    "    import eazy.hdf5\n",
    "    #eazy.hdf5.write_hdf5(self, h5file=self.param['MAIN_OUTPUT_FILE'] + '.h5')"
   ]
  },
  {
   "cell_type": "code",
   "execution_count": 8,
   "id": "036e6421",
   "metadata": {},
   "outputs": [],
   "source": [
    "if not os.path.exists('plots'):\n",
    "    os.makedirs('plots')\n",
    "    \n",
    "if not os.path.exists('plots/zspec'):\n",
    "    os.makedirs('plots/zspec')"
   ]
  },
  {
   "cell_type": "code",
   "execution_count": 10,
   "id": "034261da",
   "metadata": {},
   "outputs": [
    {
     "data": {
      "image/png": "[encoded data removed]",
      "text/plain": [
       "<Figure size 576x288 with 3 Axes>"
      ]
     },
     "metadata": {
      "needs_background": "light"
     },
     "output_type": "display_data"
    }
   ],
   "source": [
    "# https://eazy-py.readthedocs.io/en/latest/_modules/eazy/photoz.html\n",
    "id = 1023\n",
    "fig, data = eazy_run.show_fit(id, xlim=[0.5, 5], show_fnu=True, maglim=(31,25), \n",
    "                          show_components=True, logpz=True, zr=[0,12], show_prior=True)\n",
    "fig.savefig('plots/eazy_%d.png' % id, dpi=300)"
   ]
  },
  {
   "cell_type": "code",
   "execution_count": 11,
   "id": "e869991f",
   "metadata": {},
   "outputs": [
    {
     "data": {
      "image/png": "[encoded data removed]",
      "text/plain": [
       "<Figure size 576x288 with 3 Axes>"
      ]
     },
     "metadata": {
      "needs_background": "light"
     },
     "output_type": "display_data"
    }
   ],
   "source": [
    "# Show best SED fit to the input spec-z\n",
    "zspec = 8.292\n",
    "fig, data = eazy_run.show_fit(id, xlim=[0.5, 5], show_fnu=True, maglim=(31,25), \n",
    "                          zshow=zspec,  # show best SED fit to the input spec-z\n",
    "                          show_components=True, logpz=True, zr=[0,12], show_prior=False)\n",
    "fig.savefig('plots/zspec/eazy_zspec_%d.png' % id, dpi=300)"
   ]
  },
  {
   "cell_type": "markdown",
   "id": "05677f77",
   "metadata": {},
   "source": [
    "# Combined output file: photometry + photo-z's"
   ]
  },
  {
   "cell_type": "code",
   "execution_count": 12,
   "id": "e6f03def",
   "metadata": {},
   "outputs": [],
   "source": [
    "import astropy"
   ]
  },
  {
   "cell_type": "code",
   "execution_count": 13,
   "id": "669ffa6d",
   "metadata": {},
   "outputs": [],
   "source": [
    "#catalog = QTable.read(catalog_file)\n",
    "catalog = astropy.io.ascii.read(catalog_file)"
   ]
  },
  {
   "cell_type": "code",
   "execution_count": 14,
   "id": "fb0f95e5",
   "metadata": {},
   "outputs": [],
   "source": [
    "for label in zout.columns[3:]:\n",
    "    #print(label)\n",
    "    catalog[label] = zout[label]"
   ]
  },
  {
   "cell_type": "code",
   "execution_count": 15,
   "id": "0f94a411",
   "metadata": {},
   "outputs": [],
   "source": [
    "outfile = field + '_phot-eazy.ecsv'\n",
    "catalog.write(outfile, overwrite=True)"
   ]
  },
  {
   "cell_type": "code",
   "execution_count": 16,
   "id": "9164b272",
   "metadata": {},
   "outputs": [],
   "source": [
    "# Remove last 5 columns that give percentiles\n",
    "# (could instead reformat into flat catalog if desired)\n",
    "for label in list(catalog.columns):\n",
    "    if label.endswith('_p'):\n",
    "        catalog.remove_column(label)\n",
    "\n",
    "outfile = field + '_phot-eazy.cat'\n",
    "catalog.write(outfile, format='ascii.fixed_width_two_line', delimiter=' ', overwrite=True)"
   ]
  },
  {
   "cell_type": "code",
   "execution_count": null,
   "id": "d8e2aafa",
   "metadata": {},
   "outputs": [],
   "source": [
    "catalog"
   ]
  },
  {
   "cell_type": "code",
   "execution_count": null,
   "id": "f58cc891",
   "metadata": {},
   "outputs": [],
   "source": []
  }
 ],
 "metadata": {
  "kernelspec": {
   "display_name": "Python 3",
   "language": "python",
   "name": "python3"
  },
  "language_info": {
   "codemirror_mode": {
    "name": "ipython",
    "version": 3
   },
   "file_extension": ".py",
   "mimetype": "text/x-python",
   "name": "python",
   "nbconvert_exporter": "python",
   "pygments_lexer": "ipython3",
   "version": "3.10.4"
  }
 },
 "nbformat": 4,
 "nbformat_minor": 5
}
